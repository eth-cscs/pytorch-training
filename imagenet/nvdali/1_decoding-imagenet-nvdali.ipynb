{
 "cells": [
  {
   "cell_type": "markdown",
   "id": "c9d16e0b-eeee-4009-bd04-7ff0a2f725bd",
   "metadata": {},
   "source": [
    "# Reading ImageNet from tfrecord files using NVidia DALI\n",
    "\n",
    "Here we will use the [NVidia DALI](https://docs.nvidia.com/deeplearning/dali/user-guide/docs/index.html)'s [tfrecord](https://docs.nvidia.com/deeplearning/dali/user-guide/docs/operations/nvidia.dali.fn.readers.tfrecord.html#nvidia-dali-fn-readers-tfrecord) reader to read the ImageNet dataset stored in tfrecord files.\n",
    "\n",
    "Besides the tfrecord files, Nvidia DALI needs information of the position of the records on the file. That's created by the Nvidia DALI's utility script [tfrecord2idx](https://github.com/NVIDIA/DALI/blob/main/tools/tfrecord2idx)."
   ]
  },
  {
   "cell_type": "code",
   "execution_count": null,
   "id": "b2363679-29a4-402d-bc2c-9cd31fe0944f",
   "metadata": {},
   "outputs": [],
   "source": [
    "import glob\n",
    "import matplotlib.pyplot as plt\n",
    "import nvidia.dali.fn as fn\n",
    "import nvidia.dali.types as types\n",
    "import nvidia.dali.tfrecord as tfrec\n",
    "from nvidia.dali.pipeline import Pipeline\n",
    "from nvidia.dali.plugin.pytorch import DALIClassificationIterator, LastBatchPolicy"
   ]
  },
  {
   "cell_type": "code",
   "execution_count": null,
   "id": "3ab170ac-62d3-460d-bf88-aa4da966cda0",
   "metadata": {},
   "outputs": [],
   "source": [
    "data_dir = '/scratch/snx3000/datasets/imagenet/ILSVRC2012_1k/'\n",
    "\n",
    "tfrec_files = sorted(glob.glob(f'{data_dir}/train/*'))\n",
    "index_files = sorted(glob.glob(f'{data_dir}/idx_files/train/*'))"
   ]
  },
  {
   "cell_type": "code",
   "execution_count": null,
   "id": "c00e0b57-bafb-4e2c-9dd2-2cd0ea0e0aa8",
   "metadata": {},
   "outputs": [],
   "source": [
    "tfrec.FixedLenFeature?"
   ]
  },
  {
   "cell_type": "code",
   "execution_count": null,
   "id": "3510ac1a-ede0-4718-9c03-bd8a6701a6ab",
   "metadata": {},
   "outputs": [],
   "source": [
    "pipe = Pipeline(batch_size=64,\n",
    "                num_threads=12,\n",
    "                device_id=0)\n",
    "\n",
    "with pipe:\n",
    "    example = fn.readers.tfrecord(\n",
    "        path=tfrec_files,\n",
    "        index_path=index_files,\n",
    "        features={\n",
    "            'image/encoded': tfrec.FixedLenFeature((), tfrec.string, ''),\n",
    "            'image/class/label': tfrec.FixedLenFeature((), tfrec.int64, -1),\n",
    "        }\n",
    "    )\n",
    "    label = example['image/class/label'] - 1\n",
    "    image = fn.decoders.image(example['image/encoded'], device='mixed', output_type=types.RGB)\n",
    "    image = fn.resize(image, device='gpu', size=(224, 224))\n",
    "    pipe.set_outputs(image, label)"
   ]
  },
  {
   "cell_type": "code",
   "execution_count": null,
   "id": "7121c479-e47f-498a-bf93-bc2bcceb77a2",
   "metadata": {},
   "outputs": [],
   "source": [
    "pipe.build()"
   ]
  },
  {
   "cell_type": "code",
   "execution_count": null,
   "id": "fed224b6-fc13-4472-968b-fe1954ab2338",
   "metadata": {},
   "outputs": [],
   "source": [
    "loader = DALIClassificationIterator(\n",
    "    pipe,\n",
    "    last_batch_padded=False,\n",
    "    auto_reset=True,\n",
    "    last_batch_policy=LastBatchPolicy.DROP,\n",
    ")"
   ]
  },
  {
   "cell_type": "code",
   "execution_count": null,
   "id": "a8cd2d6f-ceba-48b7-bb44-dd3428eff133",
   "metadata": {},
   "outputs": [],
   "source": [
    "for i, samples in enumerate(loader):\n",
    "    imgs, labels = (samples[0]['data'], samples[0]['label'])\n",
    "    if i > 10:\n",
    "        break"
   ]
  },
  {
   "cell_type": "code",
   "execution_count": null,
   "id": "8f82eb55-ccbe-4624-ad52-e1e4ad414127",
   "metadata": {},
   "outputs": [],
   "source": [
    "imgs.shape"
   ]
  },
  {
   "cell_type": "code",
   "execution_count": null,
   "id": "50901015-2c5e-4fd8-834a-087fe3d0b21f",
   "metadata": {},
   "outputs": [],
   "source": [
    "labels.shape"
   ]
  },
  {
   "cell_type": "code",
   "execution_count": null,
   "id": "7e1b204e-e920-4ad6-a680-e34065e8bb40",
   "metadata": {
    "jp-MarkdownHeadingCollapsed": true,
    "tags": []
   },
   "outputs": [],
   "source": [
    "plt.imshow(imgs.cpu()[22])\n",
    "plt.axis('off')\n",
    "plt.show()"
   ]
  }
 ],
 "metadata": {
  "kernelspec": {
   "display_name": "pytorch2022",
   "language": "python",
   "name": "pytorch2022"
  },
  "language_info": {
   "codemirror_mode": {
    "name": "ipython",
    "version": 3
   },
   "file_extension": ".py",
   "mimetype": "text/x-python",
   "name": "python",
   "nbconvert_exporter": "python",
   "pygments_lexer": "ipython3",
   "version": "3.9.4"
  }
 },
 "nbformat": 4,
 "nbformat_minor": 5
}
