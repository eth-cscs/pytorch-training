{
 "cells": [
  {
   "cell_type": "markdown",
   "metadata": {},
   "source": [
    "# Simple regression problem\n",
    "\n",
    "In this notebook we train a small neural network on a dataset in the form of a noisy parabola."
   ]
  },
  {
   "cell_type": "code",
   "execution_count": null,
   "metadata": {},
   "outputs": [],
   "source": [
    "import numpy as np\n",
    "import matplotlib\n",
    "import matplotlib.pyplot as plt\n",
    "import torch\n",
    "import torch.nn.functional as F\n",
    "from torch.nn import Linear, Module, ReLU, Sequential\n",
    "from torch.utils.data import DataLoader, Dataset"
   ]
  },
  {
   "cell_type": "code",
   "execution_count": null,
   "metadata": {},
   "outputs": [],
   "source": [
    "class ParabolaDataset(Dataset):\n",
    "    '''The training data is generated from the parabola\n",
    "              y = x ** 2 \n",
    "    Random noise in the range `[-0.01, 0.01]` is added\n",
    "    to the function value `y`.\n",
    "    '''\n",
    "\n",
    "    def __init__(self, nsamples):\n",
    "        self.nsamples = nsamples\n",
    "\n",
    "        # A dedicated random number generator for the dataset\n",
    "        self.rnd_gen_data = torch.Generator().manual_seed(1)\n",
    "    \n",
    "    def __getitem__(self, idx):\n",
    "        x = torch.FloatTensor(1,).uniform_(-0.5, 0.5, generator=self.rnd_gen_data)\n",
    "        y = x ** 2\n",
    "        noise = torch.FloatTensor(1,).uniform_(-0.01, 0.01, generator=self.rnd_gen_data)\n",
    "        return (x, y + noise)\n",
    "\n",
    "    def __len__(self):\n",
    "        return self.nsamples"
   ]
  },
  {
   "cell_type": "code",
   "execution_count": null,
   "metadata": {},
   "outputs": [],
   "source": [
    "train_set = ParabolaDataset(\n",
    "    nsamples = 128\n",
    ")\n",
    "\n",
    "train_loader = DataLoader(\n",
    "    train_set,\n",
    "    batch_size=128,\n",
    "    shuffle=False,\n",
    "    drop_last=True\n",
    ")"
   ]
  },
  {
   "cell_type": "code",
   "execution_count": null,
   "metadata": {},
   "outputs": [],
   "source": [
    "x_plot = []\n",
    "y_plot = []\n",
    "for x, y in train_loader:\n",
    "    x_plot.append(x)\n",
    "    y_plot.append(y)\n",
    "\n",
    "x_plot = torch.cat(x_plot)\n",
    "y_plot = torch.cat(y_plot)\n",
    "\n",
    "plt.plot(x_plot, y_plot, '.')\n",
    "plt.xlabel('x')\n",
    "plt.ylabel('y')\n",
    "plt.grid()\n",
    "plt.show()"
   ]
  },
  {
   "cell_type": "markdown",
   "metadata": {
    "tags": []
   },
   "source": [
    "## Defining the model, a loss function and an optimizer"
   ]
  },
  {
   "cell_type": "code",
   "execution_count": null,
   "metadata": {},
   "outputs": [],
   "source": [
    "class ReLUNet(Module):\n",
    "    def __init__(self):\n",
    "        super().__init__()\n",
    "        hidden_size = 200\n",
    "        self.net = Sequential(\n",
    "            Linear(1, hidden_size),\n",
    "            ReLU(),\n",
    "            Linear(hidden_size, 1)\n",
    "        )\n",
    "\n",
    "    def forward(self, x):\n",
    "        return self.net(x)"
   ]
  },
  {
   "cell_type": "code",
   "execution_count": null,
   "metadata": {},
   "outputs": [],
   "source": [
    "# Select a model: \n",
    "# Create a linear model with 1 input and 1 output (y = wx + b),\n",
    "# and move it to the selected device\n",
    "model = ReLUNet()\n",
    "model = model.to(0)\n",
    "\n",
    "# Select a loss function\n",
    "loss_fn = torch.nn.MSELoss()\n",
    "\n",
    "# Select an optimizer\n",
    "optimizer = torch.optim.Adam(model.parameters(), lr=0.01)"
   ]
  },
  {
   "cell_type": "markdown",
   "metadata": {},
   "source": [
    "## Training"
   ]
  },
  {
   "cell_type": "code",
   "execution_count": null,
   "metadata": {},
   "outputs": [],
   "source": [
    "def log(loss):\n",
    "    \"\"\"Utility function for plotting\"\"\"\n",
    "\n",
    "    return loss.cpu().detach().numpy()"
   ]
  },
  {
   "cell_type": "code",
   "execution_count": null,
   "metadata": {},
   "outputs": [],
   "source": [
    "num_epochs = 200\n",
    "history = []\n",
    "\n",
    "for epoch in range(num_epochs):                 #   loop over epochs:\n",
    "    # set a seed at each epoch to always        #\n",
    "    # generate the same set of random x         #\n",
    "    train_set.rnd_gen_data.manual_seed(1)       #\n",
    "    #                                           #\n",
    "    for x, y in train_loader:                   #      loop over batches:  -> (x, y)\n",
    "        optimizer.zero_grad()                   #         * reset automatic differentiation record\n",
    "        y_hat = model(x.to(0))                  #         * evaluate the model in a batch -> y_hat (forward pass)\n",
    "        loss = loss_fn(y_hat, y.to(0))          #         * evaluate the loss function with the obtained y_hat and y\n",
    "        history.append(log(loss))               #           [not part of the traing] keep values for plotting later\n",
    "        loss.backward()                         #         * backpropagation -> gradients\n",
    "        optimizer.step()                        #         * update weights with the gradients"
   ]
  },
  {
   "cell_type": "code",
   "execution_count": null,
   "metadata": {},
   "outputs": [],
   "source": [
    "loss_hist  = np.array(history)\n",
    "\n",
    "matplotlib.rcParams['figure.figsize'] = (10, 4)\n",
    "\n",
    "plt.subplot(1, 2, 1)\n",
    "plt.plot(loss_hist, 'r-')\n",
    "plt.xlabel('Training steps')\n",
    "plt.ylabel('Loss')\n",
    "plt.grid()\n",
    "\n",
    "plt.subplot(1, 2, 2)\n",
    "plt.plot(x_plot, y_plot, '.', alpha=.3)\n",
    "\n",
    "model.cpu()\n",
    "with torch.no_grad():\n",
    "    x_plot_sorted, _ = x_plot.sort(0)\n",
    "    y_pred = model(x_plot_sorted)\n",
    "\n",
    "model.to(0)\n",
    "\n",
    "plt.plot(x_plot_sorted, y_pred.numpy(), 'b-')\n",
    "\n",
    "plt.xlabel('x')\n",
    "plt.ylabel('y')\n",
    "plt.grid()\n",
    "\n",
    "plt.tight_layout()\n",
    "plt.show()\n",
    "\n",
    "matplotlib.rcParams['figure.figsize'] = (6, 4)"
   ]
  },
  {
   "cell_type": "markdown",
   "metadata": {},
   "source": [
    "### Exercises\n",
    "\n",
    " 1. Run trainings with different values of the model's parameter `hidden_size` (say, 3, 10, 200) and see how they look ontop of the parabola.\n",
    " 2. Add a new layer (`Linear` + `ReLU`) to the model"
   ]
  },
  {
   "cell_type": "markdown",
   "metadata": {},
   "source": [
    "### Technical check\n",
    "\n",
    "By this point, you should be comfortable with the following:\n",
    " * Writing a calls that defines a simple neural network\n",
    " * Adding new layers and changing the hidden sizes of the existing ones"
   ]
  }
 ],
 "metadata": {
  "kernelspec": {
   "display_name": "Python 3 (ipykernel)",
   "language": "python",
   "name": "python3"
  },
  "language_info": {
   "codemirror_mode": {
    "name": "ipython",
    "version": 3
   },
   "file_extension": ".py",
   "mimetype": "text/x-python",
   "name": "python",
   "nbconvert_exporter": "python",
   "pygments_lexer": "ipython3",
   "version": "3.12.4"
  }
 },
 "nbformat": 4,
 "nbformat_minor": 4
}
